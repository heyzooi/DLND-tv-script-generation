{
 "cells": [
  {
   "cell_type": "markdown",
   "metadata": {
    "deletable": true,
    "editable": true
   },
   "source": [
    "# TV Script Generation\n",
    "In this project, you'll generate your own [Simpsons](https://en.wikipedia.org/wiki/The_Simpsons) TV scripts using RNNs.  You'll be using part of the [Simpsons dataset](https://www.kaggle.com/wcukierski/the-simpsons-by-the-data) of scripts from 27 seasons.  The Neural Network you'll build will generate a new TV script for a scene at [Moe's Tavern](https://simpsonswiki.com/wiki/Moe's_Tavern).\n",
    "## Get the Data\n",
    "The data is already provided for you.  You'll be using a subset of the original dataset.  It consists of only the scenes in Moe's Tavern.  This doesn't include other versions of the tavern, like \"Moe's Cavern\", \"Flaming Moe's\", \"Uncle Moe's Family Feed-Bag\", etc.."
   ]
  },
  {
   "cell_type": "code",
   "execution_count": 1,
   "metadata": {
    "collapsed": false,
    "deletable": true,
    "editable": true
   },
   "outputs": [],
   "source": [
    "\"\"\"\n",
    "DON'T MODIFY ANYTHING IN THIS CELL\n",
    "\"\"\"\n",
    "import helper\n",
    "\n",
    "data_dir = './data/simpsons/moes_tavern_lines.txt'\n",
    "text = helper.load_data(data_dir)\n",
    "# Ignore notice, since we don't use it for analysing the data\n",
    "text = text[81:]"
   ]
  },
  {
   "cell_type": "markdown",
   "metadata": {
    "deletable": true,
    "editable": true
   },
   "source": [
    "## Explore the Data\n",
    "Play around with `view_sentence_range` to view different parts of the data."
   ]
  },
  {
   "cell_type": "code",
   "execution_count": 2,
   "metadata": {
    "collapsed": false,
    "deletable": true,
    "editable": true
   },
   "outputs": [
    {
     "name": "stdout",
     "output_type": "stream",
     "text": [
      "Dataset Stats\n",
      "Roughly the number of unique words: 11492\n",
      "Number of scenes: 262\n",
      "Average number of sentences in each scene: 15.248091603053435\n",
      "Number of lines: 4257\n",
      "Average number of words in each line: 11.50434578341555\n",
      "\n",
      "The sentences 0 to 10:\n",
      "Moe_Szyslak: (INTO PHONE) Moe's Tavern. Where the elite meet to drink.\n",
      "Bart_Simpson: Eh, yeah, hello, is Mike there? Last name, Rotch.\n",
      "Moe_Szyslak: (INTO PHONE) Hold on, I'll check. (TO BARFLIES) Mike Rotch. Mike Rotch. Hey, has anybody seen Mike Rotch, lately?\n",
      "Moe_Szyslak: (INTO PHONE) Listen you little puke. One of these days I'm gonna catch you, and I'm gonna carve my name on your back with an ice pick.\n",
      "Moe_Szyslak: What's the matter Homer? You're not your normal effervescent self.\n",
      "Homer_Simpson: I got my problems, Moe. Give me another one.\n",
      "Moe_Szyslak: Homer, hey, you should not drink to forget your problems.\n",
      "Barney_Gumble: Yeah, you should only drink to enhance your social skills.\n",
      "\n",
      "\n"
     ]
    }
   ],
   "source": [
    "view_sentence_range = (0, 10)\n",
    "\n",
    "\"\"\"\n",
    "DON'T MODIFY ANYTHING IN THIS CELL\n",
    "\"\"\"\n",
    "import numpy as np\n",
    "\n",
    "print('Dataset Stats')\n",
    "print('Roughly the number of unique words: {}'.format(len({word: None for word in text.split()})))\n",
    "scenes = text.split('\\n\\n')\n",
    "print('Number of scenes: {}'.format(len(scenes)))\n",
    "sentence_count_scene = [scene.count('\\n') for scene in scenes]\n",
    "print('Average number of sentences in each scene: {}'.format(np.average(sentence_count_scene)))\n",
    "\n",
    "sentences = [sentence for scene in scenes for sentence in scene.split('\\n')]\n",
    "print('Number of lines: {}'.format(len(sentences)))\n",
    "word_count_sentence = [len(sentence.split()) for sentence in sentences]\n",
    "print('Average number of words in each line: {}'.format(np.average(word_count_sentence)))\n",
    "\n",
    "print()\n",
    "print('The sentences {} to {}:'.format(*view_sentence_range))\n",
    "print('\\n'.join(text.split('\\n')[view_sentence_range[0]:view_sentence_range[1]]))"
   ]
  },
  {
   "cell_type": "markdown",
   "metadata": {
    "deletable": true,
    "editable": true
   },
   "source": [
    "## Implement Preprocessing Functions\n",
    "The first thing to do to any dataset is preprocessing.  Implement the following preprocessing functions below:\n",
    "- Lookup Table\n",
    "- Tokenize Punctuation\n",
    "\n",
    "### Lookup Table\n",
    "To create a word embedding, you first need to transform the words to ids.  In this function, create two dictionaries:\n",
    "- Dictionary to go from the words to an id, we'll call `vocab_to_int`\n",
    "- Dictionary to go from the id to word, we'll call `int_to_vocab`\n",
    "\n",
    "Return these dictionaries in the following tuple `(vocab_to_int, int_to_vocab)`"
   ]
  },
  {
   "cell_type": "code",
   "execution_count": 3,
   "metadata": {
    "collapsed": false,
    "deletable": true,
    "editable": true
   },
   "outputs": [
    {
     "name": "stdout",
     "output_type": "stream",
     "text": [
      "Tests Passed\n"
     ]
    }
   ],
   "source": [
    "import numpy as np\n",
    "import problem_unittests as tests\n",
    "from collections import Counter\n",
    "\n",
    "def create_lookup_tables(text):\n",
    "    \"\"\"\n",
    "    Create lookup tables for vocabulary\n",
    "    :param text: The text of tv scripts split into words\n",
    "    :return: A tuple of dicts (vocab_to_int, int_to_vocab)\n",
    "    \"\"\"\n",
    "    # TODO: Implement Function\n",
    "    counter = Counter(text)\n",
    "    sorted_vocab = sorted(counter, key=counter.get, reverse=True)\n",
    "    int_to_vocab = {i: text for i, text in enumerate(sorted_vocab)}\n",
    "    vocab_to_int = {text: i for i, text in int_to_vocab.items()}\n",
    "    return (vocab_to_int, int_to_vocab)\n",
    "\n",
    "\n",
    "\"\"\"\n",
    "DON'T MODIFY ANYTHING IN THIS CELL THAT IS BELOW THIS LINE\n",
    "\"\"\"\n",
    "tests.test_create_lookup_tables(create_lookup_tables)"
   ]
  },
  {
   "cell_type": "markdown",
   "metadata": {
    "deletable": true,
    "editable": true
   },
   "source": [
    "### Tokenize Punctuation\n",
    "We'll be splitting the script into a word array using spaces as delimiters.  However, punctuations like periods and exclamation marks make it hard for the neural network to distinguish between the word \"bye\" and \"bye!\".\n",
    "\n",
    "Implement the function `token_lookup` to return a dict that will be used to tokenize symbols like \"!\" into \"||Exclamation_Mark||\".  Create a dictionary for the following symbols where the symbol is the key and value is the token:\n",
    "- Period ( . )\n",
    "- Comma ( , )\n",
    "- Quotation Mark ( \" )\n",
    "- Semicolon ( ; )\n",
    "- Exclamation mark ( ! )\n",
    "- Question mark ( ? )\n",
    "- Left Parentheses ( ( )\n",
    "- Right Parentheses ( ) )\n",
    "- Dash ( -- )\n",
    "- Return ( \\n )\n",
    "\n",
    "This dictionary will be used to token the symbols and add the delimiter (space) around it.  This separates the symbols as it's own word, making it easier for the neural network to predict on the next word. Make sure you don't use a token that could be confused as a word. Instead of using the token \"dash\", try using something like \"||dash||\"."
   ]
  },
  {
   "cell_type": "code",
   "execution_count": 4,
   "metadata": {
    "collapsed": false,
    "deletable": true,
    "editable": true
   },
   "outputs": [
    {
     "name": "stdout",
     "output_type": "stream",
     "text": [
      "Tests Passed\n"
     ]
    }
   ],
   "source": [
    "def token_lookup():\n",
    "    \"\"\"\n",
    "    Generate a dict to turn punctuation into a token.\n",
    "    :return: Tokenize dictionary where the key is the punctuation and the value is the token\n",
    "    \"\"\"\n",
    "    # TODO: Implement Function\n",
    "    return {\n",
    "        '.' : '||period||',\n",
    "        ',' : '||comma||',\n",
    "        '\"' : '||quotation_mark||',\n",
    "        ';' : '||semicolon||',\n",
    "        '!' : '||exclamation_mark||',\n",
    "        '?' : '||question_mark||',\n",
    "        '(' : '||left_parentheses||',\n",
    "        ')' : '||right_parentheses||',\n",
    "        '--' : '||dash||',\n",
    "        '\\n' : '||return||'\n",
    "    }\n",
    "\n",
    "\"\"\"\n",
    "DON'T MODIFY ANYTHING IN THIS CELL THAT IS BELOW THIS LINE\n",
    "\"\"\"\n",
    "tests.test_tokenize(token_lookup)"
   ]
  },
  {
   "cell_type": "markdown",
   "metadata": {
    "deletable": true,
    "editable": true
   },
   "source": [
    "## Preprocess all the data and save it\n",
    "Running the code cell below will preprocess all the data and save it to file."
   ]
  },
  {
   "cell_type": "code",
   "execution_count": 5,
   "metadata": {
    "collapsed": false,
    "deletable": true,
    "editable": true
   },
   "outputs": [],
   "source": [
    "\"\"\"\n",
    "DON'T MODIFY ANYTHING IN THIS CELL\n",
    "\"\"\"\n",
    "# Preprocess Training, Validation, and Testing Data\n",
    "helper.preprocess_and_save_data(data_dir, token_lookup, create_lookup_tables)"
   ]
  },
  {
   "cell_type": "markdown",
   "metadata": {
    "deletable": true,
    "editable": true
   },
   "source": [
    "# Check Point\n",
    "This is your first checkpoint. If you ever decide to come back to this notebook or have to restart the notebook, you can start from here. The preprocessed data has been saved to disk."
   ]
  },
  {
   "cell_type": "code",
   "execution_count": 6,
   "metadata": {
    "collapsed": false,
    "deletable": true,
    "editable": true
   },
   "outputs": [],
   "source": [
    "\"\"\"\n",
    "DON'T MODIFY ANYTHING IN THIS CELL\n",
    "\"\"\"\n",
    "import helper\n",
    "import numpy as np\n",
    "import problem_unittests as tests\n",
    "\n",
    "int_text, vocab_to_int, int_to_vocab, token_dict = helper.load_preprocess()"
   ]
  },
  {
   "cell_type": "markdown",
   "metadata": {
    "deletable": true,
    "editable": true
   },
   "source": [
    "## Build the Neural Network\n",
    "You'll build the components necessary to build a RNN by implementing the following functions below:\n",
    "- get_inputs\n",
    "- get_init_cell\n",
    "- get_embed\n",
    "- build_rnn\n",
    "- build_nn\n",
    "- get_batches\n",
    "\n",
    "### Check the Version of TensorFlow and Access to GPU"
   ]
  },
  {
   "cell_type": "code",
   "execution_count": 7,
   "metadata": {
    "collapsed": false,
    "deletable": true,
    "editable": true
   },
   "outputs": [
    {
     "name": "stdout",
     "output_type": "stream",
     "text": [
      "TensorFlow Version: 1.0.0\n",
      "Default GPU Device: /gpu:0\n"
     ]
    }
   ],
   "source": [
    "\"\"\"\n",
    "DON'T MODIFY ANYTHING IN THIS CELL\n",
    "\"\"\"\n",
    "from distutils.version import LooseVersion\n",
    "import warnings\n",
    "import tensorflow as tf\n",
    "\n",
    "# Check TensorFlow Version\n",
    "assert LooseVersion(tf.__version__) >= LooseVersion('1.0'), 'Please use TensorFlow version 1.0 or newer'\n",
    "print('TensorFlow Version: {}'.format(tf.__version__))\n",
    "\n",
    "# Check for a GPU\n",
    "if not tf.test.gpu_device_name():\n",
    "    warnings.warn('No GPU found. Please use a GPU to train your neural network.')\n",
    "else:\n",
    "    print('Default GPU Device: {}'.format(tf.test.gpu_device_name()))"
   ]
  },
  {
   "cell_type": "markdown",
   "metadata": {
    "deletable": true,
    "editable": true
   },
   "source": [
    "### Input\n",
    "Implement the `get_inputs()` function to create TF Placeholders for the Neural Network.  It should create the following placeholders:\n",
    "- Input text placeholder named \"input\" using the [TF Placeholder](https://www.tensorflow.org/api_docs/python/tf/placeholder) `name` parameter.\n",
    "- Targets placeholder\n",
    "- Learning Rate placeholder\n",
    "\n",
    "Return the placeholders in the following the tuple `(Input, Targets, LearingRate)`"
   ]
  },
  {
   "cell_type": "code",
   "execution_count": 8,
   "metadata": {
    "collapsed": false,
    "deletable": true,
    "editable": true
   },
   "outputs": [
    {
     "name": "stdout",
     "output_type": "stream",
     "text": [
      "Tests Passed\n"
     ]
    }
   ],
   "source": [
    "def get_inputs():\n",
    "    \"\"\"\n",
    "    Create TF Placeholders for input, targets, and learning rate.\n",
    "    :return: Tuple (input, targets, learning rate)\n",
    "    \"\"\"\n",
    "    # TODO: Implement Function\n",
    "    input = tf.placeholder(tf.int32, shape=[None, None], name='input')\n",
    "    targets = tf.placeholder(tf.int32, shape=[None, None], name='targets')\n",
    "    learning_rate = tf.placeholder(tf.float32, name='learning_rate')\n",
    "    return (input, targets, learning_rate)\n",
    "\n",
    "\n",
    "\"\"\"\n",
    "DON'T MODIFY ANYTHING IN THIS CELL THAT IS BELOW THIS LINE\n",
    "\"\"\"\n",
    "tests.test_get_inputs(get_inputs)"
   ]
  },
  {
   "cell_type": "markdown",
   "metadata": {
    "deletable": true,
    "editable": true
   },
   "source": [
    "### Build RNN Cell and Initialize\n",
    "Stack one or more [`BasicLSTMCells`](https://www.tensorflow.org/api_docs/python/tf/contrib/rnn/BasicLSTMCell) in a [`MultiRNNCell`](https://www.tensorflow.org/api_docs/python/tf/contrib/rnn/MultiRNNCell).\n",
    "- The Rnn size should be set using `rnn_size`\n",
    "- Initalize Cell State using the MultiRNNCell's [`zero_state()`](https://www.tensorflow.org/api_docs/python/tf/contrib/rnn/MultiRNNCell#zero_state) function\n",
    "    - Apply the name \"initial_state\" to the initial state using [`tf.identity()`](https://www.tensorflow.org/api_docs/python/tf/identity)\n",
    "\n",
    "Return the cell and initial state in the following tuple `(Cell, InitialState)`"
   ]
  },
  {
   "cell_type": "code",
   "execution_count": 9,
   "metadata": {
    "collapsed": false,
    "deletable": true,
    "editable": true
   },
   "outputs": [
    {
     "name": "stdout",
     "output_type": "stream",
     "text": [
      "Tests Passed\n"
     ]
    }
   ],
   "source": [
    "def get_init_cell(batch_size, rnn_size):\n",
    "    \"\"\"\n",
    "    Create an RNN Cell and initialize it.\n",
    "    :param batch_size: Size of batches\n",
    "    :param rnn_size: Size of RNNs\n",
    "    :return: Tuple (cell, initialize state)\n",
    "    \"\"\"\n",
    "    # TODO: Implement Function\n",
    "    lstm = tf.contrib.rnn.BasicLSTMCell(rnn_size)\n",
    "    lstm2 = tf.contrib.rnn.BasicLSTMCell(rnn_size)\n",
    "    lstm3 = tf.contrib.rnn.BasicLSTMCell(rnn_size)\n",
    "    cell = tf.contrib.rnn.MultiRNNCell([lstm, lstm2, lstm3])\n",
    "    initialize_state = cell.zero_state(batch_size, tf.float32)\n",
    "    initialize_state = tf.identity(initialize_state, name='initial_state')\n",
    "    return (cell, initialize_state)\n",
    "\n",
    "\n",
    "\"\"\"\n",
    "DON'T MODIFY ANYTHING IN THIS CELL THAT IS BELOW THIS LINE\n",
    "\"\"\"\n",
    "tests.test_get_init_cell(get_init_cell)"
   ]
  },
  {
   "cell_type": "markdown",
   "metadata": {
    "deletable": true,
    "editable": true
   },
   "source": [
    "### Word Embedding\n",
    "Apply embedding to `input_data` using TensorFlow.  Return the embedded sequence."
   ]
  },
  {
   "cell_type": "code",
   "execution_count": 10,
   "metadata": {
    "collapsed": false,
    "deletable": true,
    "editable": true
   },
   "outputs": [
    {
     "name": "stdout",
     "output_type": "stream",
     "text": [
      "Tests Passed\n"
     ]
    }
   ],
   "source": [
    "def get_embed(input_data, vocab_size, embed_dim):\n",
    "    \"\"\"\n",
    "    Create embedding for <input_data>.\n",
    "    :param input_data: TF placeholder for text input.\n",
    "    :param vocab_size: Number of words in vocabulary.\n",
    "    :param embed_dim: Number of embedding dimensions\n",
    "    :return: Embedded input.\n",
    "    \"\"\"\n",
    "    # TODO: Implement Function\n",
    "    embedding = tf.Variable(tf.random_uniform((vocab_size, embed_dim), -1, 1))\n",
    "    return tf.nn.embedding_lookup(embedding, input_data)\n",
    "\n",
    "\n",
    "\"\"\"\n",
    "DON'T MODIFY ANYTHING IN THIS CELL THAT IS BELOW THIS LINE\n",
    "\"\"\"\n",
    "tests.test_get_embed(get_embed)"
   ]
  },
  {
   "cell_type": "markdown",
   "metadata": {
    "deletable": true,
    "editable": true
   },
   "source": [
    "### Build RNN\n",
    "You created a RNN Cell in the `get_init_cell()` function.  Time to use the cell to create a RNN.\n",
    "- Build the RNN using the [`tf.nn.dynamic_rnn()`](https://www.tensorflow.org/api_docs/python/tf/nn/dynamic_rnn)\n",
    " - Apply the name \"final_state\" to the final state using [`tf.identity()`](https://www.tensorflow.org/api_docs/python/tf/identity)\n",
    "\n",
    "Return the outputs and final_state state in the following tuple `(Outputs, FinalState)` "
   ]
  },
  {
   "cell_type": "code",
   "execution_count": 11,
   "metadata": {
    "collapsed": false,
    "deletable": true,
    "editable": true
   },
   "outputs": [
    {
     "name": "stdout",
     "output_type": "stream",
     "text": [
      "Tests Passed\n"
     ]
    }
   ],
   "source": [
    "def build_rnn(cell, inputs):\n",
    "    \"\"\"\n",
    "    Create a RNN using a RNN Cell\n",
    "    :param cell: RNN Cell\n",
    "    :param inputs: Input text data\n",
    "    :return: Tuple (Outputs, Final State)\n",
    "    \"\"\"\n",
    "    # TODO: Implement Function\n",
    "    outputs, final_state = tf.nn.dynamic_rnn(cell, inputs=inputs, dtype=tf.float32)\n",
    "    final_state = tf.identity(final_state, name='final_state')\n",
    "    return (outputs, final_state)\n",
    "\n",
    "\n",
    "\"\"\"\n",
    "DON'T MODIFY ANYTHING IN THIS CELL THAT IS BELOW THIS LINE\n",
    "\"\"\"\n",
    "tests.test_build_rnn(build_rnn)"
   ]
  },
  {
   "cell_type": "markdown",
   "metadata": {
    "deletable": true,
    "editable": true
   },
   "source": [
    "### Build the Neural Network\n",
    "Apply the functions you implemented above to:\n",
    "- Apply embedding to `input_data` using your `get_embed(input_data, vocab_size, embed_dim)` function.\n",
    "- Build RNN using `cell` and your `build_rnn(cell, inputs)` function.\n",
    "- Apply a fully connected layer with a linear activation and `vocab_size` as the number of outputs.\n",
    "\n",
    "Return the logits and final state in the following tuple (Logits, FinalState) "
   ]
  },
  {
   "cell_type": "code",
   "execution_count": 12,
   "metadata": {
    "collapsed": false,
    "deletable": true,
    "editable": true
   },
   "outputs": [
    {
     "name": "stdout",
     "output_type": "stream",
     "text": [
      "Tests Passed\n"
     ]
    }
   ],
   "source": [
    "def build_nn(cell, rnn_size, input_data, vocab_size):\n",
    "    \"\"\"\n",
    "    Build part of the neural network\n",
    "    :param cell: RNN cell\n",
    "    :param rnn_size: Size of rnns\n",
    "    :param input_data: Input data\n",
    "    :param vocab_size: Vocabulary size\n",
    "    :return: Tuple (Logits, FinalState)\n",
    "    \"\"\"\n",
    "    # TODO: Implement Function\n",
    "    embed = get_embed(input_data, vocab_size, 500)\n",
    "    outputs, final_state = build_rnn(cell, embed)\n",
    "    weights = tf.random_normal_initializer(stddev=0.01)\n",
    "    biases = tf.zeros_initializer()\n",
    "    logits = tf.contrib.layers.fully_connected(\n",
    "        outputs,\n",
    "        num_outputs=vocab_size,\n",
    "        activation_fn=None,\n",
    "        weights_initializer=weights,\n",
    "        biases_initializer=biases\n",
    "    )\n",
    "    return (logits, final_state)\n",
    "\n",
    "\n",
    "\"\"\"\n",
    "DON'T MODIFY ANYTHING IN THIS CELL THAT IS BELOW THIS LINE\n",
    "\"\"\"\n",
    "tests.test_build_nn(build_nn)"
   ]
  },
  {
   "cell_type": "markdown",
   "metadata": {
    "deletable": true,
    "editable": true
   },
   "source": [
    "### Batches\n",
    "Implement `get_batches` to create batches of input and targets using `int_text`.  The batches should be a Numpy array with the shape `(number of batches, 2, batch size, sequence length)`. Each batch contains two elements:\n",
    "- The first element is a single batch of **input** with the shape `[batch size, sequence length]`\n",
    "- The second element is a single batch of **targets** with the shape `[batch size, sequence length]`\n",
    "\n",
    "If you can't fill the last batch with enough data, drop the last batch.\n",
    "\n",
    "For exmple, `get_batches([1, 2, 3, 4, 5, 6, 7, 8, 9, 10, 11, 12, 13, 14, 15], 2, 3)` would return a Numpy array of the following:\n",
    "```\n",
    "[\n",
    "  # First Batch\n",
    "  [\n",
    "    # Batch of Input\n",
    "    [[ 1  2  3], [ 7  8  9]],\n",
    "    # Batch of targets\n",
    "    [[ 2  3  4], [ 8  9 10]]\n",
    "  ],\n",
    " \n",
    "  # Second Batch\n",
    "  [\n",
    "    # Batch of Input\n",
    "    [[ 4  5  6], [10 11 12]],\n",
    "    # Batch of targets\n",
    "    [[ 5  6  7], [11 12 13]]\n",
    "  ]\n",
    "]\n",
    "```"
   ]
  },
  {
   "cell_type": "code",
   "execution_count": 13,
   "metadata": {
    "collapsed": false,
    "deletable": true,
    "editable": true
   },
   "outputs": [
    {
     "name": "stdout",
     "output_type": "stream",
     "text": [
      "Tests Passed\n"
     ]
    }
   ],
   "source": [
    "def get_batches(int_text, batch_size, seq_length):\n",
    "    \"\"\"\n",
    "    Return batches of input and target\n",
    "    :param int_text: Text with the words replaced by their ids\n",
    "    :param batch_size: The size of batch\n",
    "    :param seq_length: The length of sequence\n",
    "    :return: Batches as a Numpy array\n",
    "    \"\"\"\n",
    "    # TODO: Implement Function\n",
    "    number_of_batches = len(int_text) // (batch_size * seq_length)\n",
    "    int_text = np.array(int_text[ : number_of_batches * batch_size * seq_length + 1])\n",
    "    \n",
    "    inputs = int_text[ : number_of_batches * batch_size * seq_length]\n",
    "    targets = int_text[1 : number_of_batches * batch_size * seq_length + 1]\n",
    "    \n",
    "    inputs = inputs.reshape(batch_size, -1)\n",
    "    targets = targets.reshape(batch_size, -1)\n",
    "    \n",
    "    inputs = np.split(inputs, number_of_batches, 1)\n",
    "    targets = np.split(targets, number_of_batches, 1)\n",
    "    \n",
    "    return np.array(list(zip(inputs, targets)))\n",
    "\n",
    "\n",
    "\"\"\"\n",
    "DON'T MODIFY ANYTHING IN THIS CELL THAT IS BELOW THIS LINE\n",
    "\"\"\"\n",
    "tests.test_get_batches(get_batches)"
   ]
  },
  {
   "cell_type": "markdown",
   "metadata": {
    "deletable": true,
    "editable": true
   },
   "source": [
    "## Neural Network Training\n",
    "### Hyperparameters\n",
    "Tune the following parameters:\n",
    "\n",
    "- Set `num_epochs` to the number of epochs.\n",
    "- Set `batch_size` to the batch size.\n",
    "- Set `rnn_size` to the size of the RNNs.\n",
    "- Set `seq_length` to the length of sequence.\n",
    "- Set `learning_rate` to the learning rate.\n",
    "- Set `show_every_n_batches` to the number of batches the neural network should print progress."
   ]
  },
  {
   "cell_type": "code",
   "execution_count": 18,
   "metadata": {
    "collapsed": false,
    "deletable": true,
    "editable": true
   },
   "outputs": [],
   "source": [
    "# Number of Epochs\n",
    "num_epochs = 500\n",
    "# Batch Size\n",
    "batch_size = 1024\n",
    "# RNN Size\n",
    "rnn_size = 1024\n",
    "# Sequence Length\n",
    "seq_length = 10\n",
    "# Learning Rate\n",
    "learning_rate = 0.001\n",
    "# Show stats for every n number of batches\n",
    "show_every_n_batches = 6\n",
    "\n",
    "\n",
    "\"\"\"\n",
    "DON'T MODIFY ANYTHING IN THIS CELL THAT IS BELOW THIS LINE\n",
    "\"\"\"\n",
    "save_dir = './save'"
   ]
  },
  {
   "cell_type": "markdown",
   "metadata": {
    "deletable": true,
    "editable": true
   },
   "source": [
    "### Build the Graph\n",
    "Build the graph using the neural network you implemented."
   ]
  },
  {
   "cell_type": "code",
   "execution_count": 19,
   "metadata": {
    "collapsed": false,
    "deletable": true,
    "editable": true
   },
   "outputs": [],
   "source": [
    "\"\"\"\n",
    "DON'T MODIFY ANYTHING IN THIS CELL\n",
    "\"\"\"\n",
    "from tensorflow.contrib import seq2seq\n",
    "\n",
    "train_graph = tf.Graph()\n",
    "with train_graph.as_default():\n",
    "    vocab_size = len(int_to_vocab)\n",
    "    input_text, targets, lr = get_inputs()\n",
    "    input_data_shape = tf.shape(input_text)\n",
    "    cell, initial_state = get_init_cell(input_data_shape[0], rnn_size)\n",
    "    logits, final_state = build_nn(cell, rnn_size, input_text, vocab_size)\n",
    "\n",
    "    # Probabilities for generating words\n",
    "    probs = tf.nn.softmax(logits, name='probs')\n",
    "\n",
    "    # Loss function\n",
    "    cost = seq2seq.sequence_loss(\n",
    "        logits,\n",
    "        targets,\n",
    "        tf.ones([input_data_shape[0], input_data_shape[1]]))\n",
    "\n",
    "    # Optimizer\n",
    "    optimizer = tf.train.AdamOptimizer(lr)\n",
    "\n",
    "    # Gradient Clipping\n",
    "    gradients = optimizer.compute_gradients(cost)\n",
    "    capped_gradients = [(tf.clip_by_value(grad, -1., 1.), var) for grad, var in gradients]\n",
    "    train_op = optimizer.apply_gradients(capped_gradients)"
   ]
  },
  {
   "cell_type": "markdown",
   "metadata": {
    "deletable": true,
    "editable": true
   },
   "source": [
    "## Train\n",
    "Train the neural network on the preprocessed data.  If you have a hard time getting a good loss, check the [forms](https://discussions.udacity.com/) to see if anyone is having the same problem."
   ]
  },
  {
   "cell_type": "code",
   "execution_count": 20,
   "metadata": {
    "collapsed": false,
    "deletable": true,
    "editable": true
   },
   "outputs": [
    {
     "name": "stdout",
     "output_type": "stream",
     "text": [
      "Epoch   0 Batch    0/6   train_loss = 8.822\n",
      "Epoch   1 Batch    0/6   train_loss = 6.517\n",
      "Epoch   2 Batch    0/6   train_loss = 6.156\n",
      "Epoch   3 Batch    0/6   train_loss = 6.054\n",
      "Epoch   4 Batch    0/6   train_loss = 5.999\n",
      "Epoch   5 Batch    0/6   train_loss = 5.965\n",
      "Epoch   6 Batch    0/6   train_loss = 5.937\n",
      "Epoch   7 Batch    0/6   train_loss = 5.916\n",
      "Epoch   8 Batch    0/6   train_loss = 5.903\n",
      "Epoch   9 Batch    0/6   train_loss = 5.893\n",
      "Epoch  10 Batch    0/6   train_loss = 5.887\n",
      "Epoch  11 Batch    0/6   train_loss = 5.880\n",
      "Epoch  12 Batch    0/6   train_loss = 5.867\n",
      "Epoch  13 Batch    0/6   train_loss = 5.850\n",
      "Epoch  14 Batch    0/6   train_loss = 5.823\n",
      "Epoch  15 Batch    0/6   train_loss = 5.779\n",
      "Epoch  16 Batch    0/6   train_loss = 5.741\n",
      "Epoch  17 Batch    0/6   train_loss = 5.706\n",
      "Epoch  18 Batch    0/6   train_loss = 5.673\n",
      "Epoch  19 Batch    0/6   train_loss = 5.646\n",
      "Epoch  20 Batch    0/6   train_loss = 5.622\n",
      "Epoch  21 Batch    0/6   train_loss = 5.603\n",
      "Epoch  22 Batch    0/6   train_loss = 5.582\n",
      "Epoch  23 Batch    0/6   train_loss = 5.564\n",
      "Epoch  24 Batch    0/6   train_loss = 5.546\n",
      "Epoch  25 Batch    0/6   train_loss = 5.529\n",
      "Epoch  26 Batch    0/6   train_loss = 5.507\n",
      "Epoch  27 Batch    0/6   train_loss = 5.482\n",
      "Epoch  28 Batch    0/6   train_loss = 5.461\n",
      "Epoch  29 Batch    0/6   train_loss = 5.438\n",
      "Epoch  30 Batch    0/6   train_loss = 5.415\n",
      "Epoch  31 Batch    0/6   train_loss = 5.394\n",
      "Epoch  32 Batch    0/6   train_loss = 5.371\n",
      "Epoch  33 Batch    0/6   train_loss = 5.351\n",
      "Epoch  34 Batch    0/6   train_loss = 5.336\n",
      "Epoch  35 Batch    0/6   train_loss = 5.317\n",
      "Epoch  36 Batch    0/6   train_loss = 5.285\n",
      "Epoch  37 Batch    0/6   train_loss = 5.262\n",
      "Epoch  38 Batch    0/6   train_loss = 5.238\n",
      "Epoch  39 Batch    0/6   train_loss = 5.215\n",
      "Epoch  40 Batch    0/6   train_loss = 5.192\n",
      "Epoch  41 Batch    0/6   train_loss = 5.169\n",
      "Epoch  42 Batch    0/6   train_loss = 5.146\n",
      "Epoch  43 Batch    0/6   train_loss = 5.129\n",
      "Epoch  44 Batch    0/6   train_loss = 5.103\n",
      "Epoch  45 Batch    0/6   train_loss = 5.091\n",
      "Epoch  46 Batch    0/6   train_loss = 5.060\n",
      "Epoch  47 Batch    0/6   train_loss = 5.041\n",
      "Epoch  48 Batch    0/6   train_loss = 5.018\n",
      "Epoch  49 Batch    0/6   train_loss = 5.002\n",
      "Epoch  50 Batch    0/6   train_loss = 4.971\n",
      "Epoch  51 Batch    0/6   train_loss = 4.940\n",
      "Epoch  52 Batch    0/6   train_loss = 4.911\n",
      "Epoch  53 Batch    0/6   train_loss = 4.881\n",
      "Epoch  54 Batch    0/6   train_loss = 4.856\n",
      "Epoch  55 Batch    0/6   train_loss = 4.852\n",
      "Epoch  56 Batch    0/6   train_loss = 4.801\n",
      "Epoch  57 Batch    0/6   train_loss = 4.767\n",
      "Epoch  58 Batch    0/6   train_loss = 4.737\n",
      "Epoch  59 Batch    0/6   train_loss = 4.705\n",
      "Epoch  60 Batch    0/6   train_loss = 4.680\n",
      "Epoch  61 Batch    0/6   train_loss = 4.655\n",
      "Epoch  62 Batch    0/6   train_loss = 4.662\n",
      "Epoch  63 Batch    0/6   train_loss = 4.630\n",
      "Epoch  64 Batch    0/6   train_loss = 4.621\n",
      "Epoch  65 Batch    0/6   train_loss = 4.560\n",
      "Epoch  66 Batch    0/6   train_loss = 4.541\n",
      "Epoch  67 Batch    0/6   train_loss = 4.503\n",
      "Epoch  68 Batch    0/6   train_loss = 4.482\n",
      "Epoch  69 Batch    0/6   train_loss = 4.463\n",
      "Epoch  70 Batch    0/6   train_loss = 4.458\n",
      "Epoch  71 Batch    0/6   train_loss = 4.427\n",
      "Epoch  72 Batch    0/6   train_loss = 4.473\n",
      "Epoch  73 Batch    0/6   train_loss = 4.494\n",
      "Epoch  74 Batch    0/6   train_loss = 4.400\n",
      "Epoch  75 Batch    0/6   train_loss = 4.377\n",
      "Epoch  76 Batch    0/6   train_loss = 4.313\n",
      "Epoch  77 Batch    0/6   train_loss = 4.282\n",
      "Epoch  78 Batch    0/6   train_loss = 4.255\n",
      "Epoch  79 Batch    0/6   train_loss = 4.237\n",
      "Epoch  80 Batch    0/6   train_loss = 4.267\n",
      "Epoch  81 Batch    0/6   train_loss = 4.302\n",
      "Epoch  82 Batch    0/6   train_loss = 4.337\n",
      "Epoch  83 Batch    0/6   train_loss = 4.213\n",
      "Epoch  84 Batch    0/6   train_loss = 4.227\n",
      "Epoch  85 Batch    0/6   train_loss = 4.124\n",
      "Epoch  86 Batch    0/6   train_loss = 4.102\n",
      "Epoch  87 Batch    0/6   train_loss = 4.058\n",
      "Epoch  88 Batch    0/6   train_loss = 4.041\n",
      "Epoch  89 Batch    0/6   train_loss = 4.014\n",
      "Epoch  90 Batch    0/6   train_loss = 4.010\n",
      "Epoch  91 Batch    0/6   train_loss = 3.979\n",
      "Epoch  92 Batch    0/6   train_loss = 4.016\n",
      "Epoch  93 Batch    0/6   train_loss = 4.411\n",
      "Epoch  94 Batch    0/6   train_loss = 4.065\n",
      "Epoch  95 Batch    0/6   train_loss = 4.103\n",
      "Epoch  96 Batch    0/6   train_loss = 3.989\n",
      "Epoch  97 Batch    0/6   train_loss = 3.911\n",
      "Epoch  98 Batch    0/6   train_loss = 3.905\n",
      "Epoch  99 Batch    0/6   train_loss = 3.836\n",
      "Epoch 100 Batch    0/6   train_loss = 3.811\n",
      "Epoch 101 Batch    0/6   train_loss = 3.771\n",
      "Epoch 102 Batch    0/6   train_loss = 3.749\n",
      "Epoch 103 Batch    0/6   train_loss = 3.716\n",
      "Epoch 104 Batch    0/6   train_loss = 3.698\n",
      "Epoch 105 Batch    0/6   train_loss = 3.689\n",
      "Epoch 106 Batch    0/6   train_loss = 3.677\n",
      "Epoch 107 Batch    0/6   train_loss = 3.657\n",
      "Epoch 108 Batch    0/6   train_loss = 3.668\n",
      "Epoch 109 Batch    0/6   train_loss = 3.692\n",
      "Epoch 110 Batch    0/6   train_loss = 3.645\n",
      "Epoch 111 Batch    0/6   train_loss = 3.617\n",
      "Epoch 112 Batch    0/6   train_loss = 3.665\n",
      "Epoch 113 Batch    0/6   train_loss = 3.561\n",
      "Epoch 114 Batch    0/6   train_loss = 3.548\n",
      "Epoch 115 Batch    0/6   train_loss = 3.528\n",
      "Epoch 116 Batch    0/6   train_loss = 3.461\n",
      "Epoch 117 Batch    0/6   train_loss = 3.464\n",
      "Epoch 118 Batch    0/6   train_loss = 3.392\n",
      "Epoch 119 Batch    0/6   train_loss = 3.394\n",
      "Epoch 120 Batch    0/6   train_loss = 3.373\n",
      "Epoch 121 Batch    0/6   train_loss = 3.365\n",
      "Epoch 122 Batch    0/6   train_loss = 3.372\n",
      "Epoch 123 Batch    0/6   train_loss = 3.338\n",
      "Epoch 124 Batch    0/6   train_loss = 3.328\n",
      "Epoch 125 Batch    0/6   train_loss = 3.345\n",
      "Epoch 126 Batch    0/6   train_loss = 3.318\n",
      "Epoch 127 Batch    0/6   train_loss = 3.281\n",
      "Epoch 128 Batch    0/6   train_loss = 3.356\n",
      "Epoch 129 Batch    0/6   train_loss = 3.214\n",
      "Epoch 130 Batch    0/6   train_loss = 3.302\n",
      "Epoch 131 Batch    0/6   train_loss = 3.242\n",
      "Epoch 132 Batch    0/6   train_loss = 3.208\n",
      "Epoch 133 Batch    0/6   train_loss = 3.166\n",
      "Epoch 134 Batch    0/6   train_loss = 3.166\n",
      "Epoch 135 Batch    0/6   train_loss = 3.075\n",
      "Epoch 136 Batch    0/6   train_loss = 3.065\n",
      "Epoch 137 Batch    0/6   train_loss = 3.024\n",
      "Epoch 138 Batch    0/6   train_loss = 2.977\n",
      "Epoch 139 Batch    0/6   train_loss = 2.982\n",
      "Epoch 140 Batch    0/6   train_loss = 2.930\n",
      "Epoch 141 Batch    0/6   train_loss = 2.923\n",
      "Epoch 142 Batch    0/6   train_loss = 2.926\n",
      "Epoch 143 Batch    0/6   train_loss = 2.899\n",
      "Epoch 144 Batch    0/6   train_loss = 2.885\n",
      "Epoch 145 Batch    0/6   train_loss = 2.888\n",
      "Epoch 146 Batch    0/6   train_loss = 2.866\n",
      "Epoch 147 Batch    0/6   train_loss = 2.799\n",
      "Epoch 148 Batch    0/6   train_loss = 2.813\n",
      "Epoch 149 Batch    0/6   train_loss = 2.754\n",
      "Epoch 150 Batch    0/6   train_loss = 2.719\n",
      "Epoch 151 Batch    0/6   train_loss = 2.716\n",
      "Epoch 152 Batch    0/6   train_loss = 2.653\n",
      "Epoch 153 Batch    0/6   train_loss = 2.648\n",
      "Epoch 154 Batch    0/6   train_loss = 2.619\n",
      "Epoch 155 Batch    0/6   train_loss = 2.599\n",
      "Epoch 156 Batch    0/6   train_loss = 2.585\n",
      "Epoch 157 Batch    0/6   train_loss = 2.555\n",
      "Epoch 158 Batch    0/6   train_loss = 2.575\n",
      "Epoch 159 Batch    0/6   train_loss = 2.525\n",
      "Epoch 160 Batch    0/6   train_loss = 2.533\n",
      "Epoch 161 Batch    0/6   train_loss = 2.563\n",
      "Epoch 162 Batch    0/6   train_loss = 2.503\n",
      "Epoch 163 Batch    0/6   train_loss = 2.556\n",
      "Epoch 164 Batch    0/6   train_loss = 2.454\n",
      "Epoch 165 Batch    0/6   train_loss = 2.447\n",
      "Epoch 166 Batch    0/6   train_loss = 2.387\n",
      "Epoch 167 Batch    0/6   train_loss = 2.378\n",
      "Epoch 168 Batch    0/6   train_loss = 2.556\n",
      "Epoch 169 Batch    0/6   train_loss = 2.596\n",
      "Epoch 170 Batch    0/6   train_loss = 2.567\n",
      "Epoch 171 Batch    0/6   train_loss = 2.593\n",
      "Epoch 172 Batch    0/6   train_loss = 2.484\n",
      "Epoch 173 Batch    0/6   train_loss = 2.466\n",
      "Epoch 174 Batch    0/6   train_loss = 2.268\n",
      "Epoch 175 Batch    0/6   train_loss = 2.220\n",
      "Epoch 176 Batch    0/6   train_loss = 2.161\n",
      "Epoch 177 Batch    0/6   train_loss = 2.115\n",
      "Epoch 178 Batch    0/6   train_loss = 2.080\n",
      "Epoch 179 Batch    0/6   train_loss = 2.044\n",
      "Epoch 180 Batch    0/6   train_loss = 2.011\n",
      "Epoch 181 Batch    0/6   train_loss = 1.992\n",
      "Epoch 182 Batch    0/6   train_loss = 1.983\n",
      "Epoch 183 Batch    0/6   train_loss = 1.971\n",
      "Epoch 184 Batch    0/6   train_loss = 1.932\n",
      "Epoch 185 Batch    0/6   train_loss = 1.996\n",
      "Epoch 186 Batch    0/6   train_loss = 2.143\n",
      "Epoch 187 Batch    0/6   train_loss = 1.943\n",
      "Epoch 188 Batch    0/6   train_loss = 1.951\n",
      "Epoch 189 Batch    0/6   train_loss = 1.901\n",
      "Epoch 190 Batch    0/6   train_loss = 1.850\n",
      "Epoch 191 Batch    0/6   train_loss = 1.806\n",
      "Epoch 192 Batch    0/6   train_loss = 1.785\n",
      "Epoch 193 Batch    0/6   train_loss = 1.770\n",
      "Epoch 194 Batch    0/6   train_loss = 1.766\n",
      "Epoch 195 Batch    0/6   train_loss = 1.722\n",
      "Epoch 196 Batch    0/6   train_loss = 1.723\n",
      "Epoch 197 Batch    0/6   train_loss = 1.802\n",
      "Epoch 198 Batch    0/6   train_loss = 1.667\n",
      "Epoch 199 Batch    0/6   train_loss = 1.734\n",
      "Epoch 200 Batch    0/6   train_loss = 1.624\n",
      "Epoch 201 Batch    0/6   train_loss = 1.644\n",
      "Epoch 202 Batch    0/6   train_loss = 1.582\n",
      "Epoch 203 Batch    0/6   train_loss = 1.555\n",
      "Epoch 204 Batch    0/6   train_loss = 1.566\n",
      "Epoch 205 Batch    0/6   train_loss = 1.537\n",
      "Epoch 206 Batch    0/6   train_loss = 1.505\n",
      "Epoch 207 Batch    0/6   train_loss = 1.528\n",
      "Epoch 208 Batch    0/6   train_loss = 1.504\n",
      "Epoch 209 Batch    0/6   train_loss = 1.495\n",
      "Epoch 210 Batch    0/6   train_loss = 1.441\n",
      "Epoch 211 Batch    0/6   train_loss = 1.451\n",
      "Epoch 212 Batch    0/6   train_loss = 1.426\n",
      "Epoch 213 Batch    0/6   train_loss = 1.396\n",
      "Epoch 214 Batch    0/6   train_loss = 1.383\n",
      "Epoch 215 Batch    0/6   train_loss = 1.355\n",
      "Epoch 216 Batch    0/6   train_loss = 1.321\n",
      "Epoch 217 Batch    0/6   train_loss = 1.315\n",
      "Epoch 218 Batch    0/6   train_loss = 1.294\n",
      "Epoch 219 Batch    0/6   train_loss = 1.270\n",
      "Epoch 220 Batch    0/6   train_loss = 1.364\n",
      "Epoch 221 Batch    0/6   train_loss = 1.271\n",
      "Epoch 222 Batch    0/6   train_loss = 1.263\n",
      "Epoch 223 Batch    0/6   train_loss = 1.307\n",
      "Epoch 224 Batch    0/6   train_loss = 1.292\n",
      "Epoch 225 Batch    0/6   train_loss = 1.277\n",
      "Epoch 226 Batch    0/6   train_loss = 1.215\n",
      "Epoch 227 Batch    0/6   train_loss = 1.240\n",
      "Epoch 228 Batch    0/6   train_loss = 1.153\n",
      "Epoch 229 Batch    0/6   train_loss = 1.127\n",
      "Epoch 230 Batch    0/6   train_loss = 1.093\n",
      "Epoch 231 Batch    0/6   train_loss = 1.075\n",
      "Epoch 232 Batch    0/6   train_loss = 1.054\n",
      "Epoch 233 Batch    0/6   train_loss = 1.029\n",
      "Epoch 234 Batch    0/6   train_loss = 1.022\n",
      "Epoch 235 Batch    0/6   train_loss = 1.006\n",
      "Epoch 236 Batch    0/6   train_loss = 0.986\n",
      "Epoch 237 Batch    0/6   train_loss = 0.992\n",
      "Epoch 238 Batch    0/6   train_loss = 0.971\n",
      "Epoch 239 Batch    0/6   train_loss = 0.972\n",
      "Epoch 240 Batch    0/6   train_loss = 0.961\n",
      "Epoch 241 Batch    0/6   train_loss = 0.944\n",
      "Epoch 242 Batch    0/6   train_loss = 0.932\n",
      "Epoch 243 Batch    0/6   train_loss = 0.910\n",
      "Epoch 244 Batch    0/6   train_loss = 0.916\n",
      "Epoch 245 Batch    0/6   train_loss = 0.884\n",
      "Epoch 246 Batch    0/6   train_loss = 0.887\n",
      "Epoch 247 Batch    0/6   train_loss = 0.901\n",
      "Epoch 248 Batch    0/6   train_loss = 0.868\n",
      "Epoch 249 Batch    0/6   train_loss = 0.873\n",
      "Epoch 250 Batch    0/6   train_loss = 0.886\n",
      "Epoch 251 Batch    0/6   train_loss = 0.841\n",
      "Epoch 252 Batch    0/6   train_loss = 0.887\n",
      "Epoch 253 Batch    0/6   train_loss = 0.832\n",
      "Epoch 254 Batch    0/6   train_loss = 0.841\n",
      "Epoch 255 Batch    0/6   train_loss = 0.822\n",
      "Epoch 256 Batch    0/6   train_loss = 0.804\n",
      "Epoch 257 Batch    0/6   train_loss = 0.769\n",
      "Epoch 258 Batch    0/6   train_loss = 0.800\n",
      "Epoch 259 Batch    0/6   train_loss = 0.745\n",
      "Epoch 260 Batch    0/6   train_loss = 0.769\n",
      "Epoch 261 Batch    0/6   train_loss = 0.734\n",
      "Epoch 262 Batch    0/6   train_loss = 0.732\n",
      "Epoch 263 Batch    0/6   train_loss = 0.711\n",
      "Epoch 264 Batch    0/6   train_loss = 0.702\n",
      "Epoch 265 Batch    0/6   train_loss = 0.694\n",
      "Epoch 266 Batch    0/6   train_loss = 0.681\n",
      "Epoch 267 Batch    0/6   train_loss = 0.670\n",
      "Epoch 268 Batch    0/6   train_loss = 0.673\n",
      "Epoch 269 Batch    0/6   train_loss = 0.668\n",
      "Epoch 270 Batch    0/6   train_loss = 0.649\n",
      "Epoch 271 Batch    0/6   train_loss = 0.667\n",
      "Epoch 272 Batch    0/6   train_loss = 0.651\n",
      "Epoch 273 Batch    0/6   train_loss = 0.635\n",
      "Epoch 274 Batch    0/6   train_loss = 0.651\n",
      "Epoch 275 Batch    0/6   train_loss = 0.618\n",
      "Epoch 276 Batch    0/6   train_loss = 0.633\n",
      "Epoch 277 Batch    0/6   train_loss = 0.605\n",
      "Epoch 278 Batch    0/6   train_loss = 0.606\n",
      "Epoch 279 Batch    0/6   train_loss = 0.591\n",
      "Epoch 280 Batch    0/6   train_loss = 0.588\n",
      "Epoch 281 Batch    0/6   train_loss = 0.580\n",
      "Epoch 282 Batch    0/6   train_loss = 0.574\n",
      "Epoch 283 Batch    0/6   train_loss = 0.570\n",
      "Epoch 284 Batch    0/6   train_loss = 0.562\n",
      "Epoch 285 Batch    0/6   train_loss = 0.564\n",
      "Epoch 286 Batch    0/6   train_loss = 0.557\n",
      "Epoch 287 Batch    0/6   train_loss = 0.554\n",
      "Epoch 288 Batch    0/6   train_loss = 0.549\n",
      "Epoch 289 Batch    0/6   train_loss = 0.556\n",
      "Epoch 290 Batch    0/6   train_loss = 0.549\n",
      "Epoch 291 Batch    0/6   train_loss = 0.545\n",
      "Epoch 292 Batch    0/6   train_loss = 0.556\n",
      "Epoch 293 Batch    0/6   train_loss = 0.540\n",
      "Epoch 294 Batch    0/6   train_loss = 0.548\n",
      "Epoch 295 Batch    0/6   train_loss = 0.540\n",
      "Epoch 296 Batch    0/6   train_loss = 0.533\n",
      "Epoch 297 Batch    0/6   train_loss = 0.528\n",
      "Epoch 298 Batch    0/6   train_loss = 0.515\n",
      "Epoch 299 Batch    0/6   train_loss = 0.508\n",
      "Epoch 300 Batch    0/6   train_loss = 0.505\n",
      "Epoch 301 Batch    0/6   train_loss = 0.495\n",
      "Epoch 302 Batch    0/6   train_loss = 0.495\n",
      "Epoch 303 Batch    0/6   train_loss = 0.486\n",
      "Epoch 304 Batch    0/6   train_loss = 0.485\n",
      "Epoch 305 Batch    0/6   train_loss = 0.479\n",
      "Epoch 306 Batch    0/6   train_loss = 0.477\n",
      "Epoch 307 Batch    0/6   train_loss = 0.473\n",
      "Epoch 308 Batch    0/6   train_loss = 0.469\n",
      "Epoch 309 Batch    0/6   train_loss = 0.467\n",
      "Epoch 310 Batch    0/6   train_loss = 0.464\n",
      "Epoch 311 Batch    0/6   train_loss = 0.462\n",
      "Epoch 312 Batch    0/6   train_loss = 0.458\n",
      "Epoch 313 Batch    0/6   train_loss = 0.456\n",
      "Epoch 314 Batch    0/6   train_loss = 0.453\n",
      "Epoch 315 Batch    0/6   train_loss = 0.452\n",
      "Epoch 316 Batch    0/6   train_loss = 0.449\n",
      "Epoch 317 Batch    0/6   train_loss = 0.447\n",
      "Epoch 318 Batch    0/6   train_loss = 0.445\n",
      "Epoch 319 Batch    0/6   train_loss = 0.443\n",
      "Epoch 320 Batch    0/6   train_loss = 0.441\n",
      "Epoch 321 Batch    0/6   train_loss = 0.439\n",
      "Epoch 322 Batch    0/6   train_loss = 0.438\n",
      "Epoch 323 Batch    0/6   train_loss = 0.437\n",
      "Epoch 324 Batch    0/6   train_loss = 0.434\n",
      "Epoch 325 Batch    0/6   train_loss = 0.432\n",
      "Epoch 326 Batch    0/6   train_loss = 0.435\n",
      "Epoch 327 Batch    0/6   train_loss = 0.428\n",
      "Epoch 328 Batch    0/6   train_loss = 0.429\n",
      "Epoch 329 Batch    0/6   train_loss = 0.429\n",
      "Epoch 330 Batch    0/6   train_loss = 0.426\n",
      "Epoch 331 Batch    0/6   train_loss = 0.424\n",
      "Epoch 332 Batch    0/6   train_loss = 0.424\n",
      "Epoch 333 Batch    0/6   train_loss = 0.420\n",
      "Epoch 334 Batch    0/6   train_loss = 0.420\n",
      "Epoch 335 Batch    0/6   train_loss = 0.417\n",
      "Epoch 336 Batch    0/6   train_loss = 0.415\n",
      "Epoch 337 Batch    0/6   train_loss = 0.415\n",
      "Epoch 338 Batch    0/6   train_loss = 0.412\n",
      "Epoch 339 Batch    0/6   train_loss = 0.411\n",
      "Epoch 340 Batch    0/6   train_loss = 0.408\n",
      "Epoch 341 Batch    0/6   train_loss = 0.408\n",
      "Epoch 342 Batch    0/6   train_loss = 0.406\n",
      "Epoch 343 Batch    0/6   train_loss = 0.404\n",
      "Epoch 344 Batch    0/6   train_loss = 0.402\n",
      "Epoch 345 Batch    0/6   train_loss = 0.401\n",
      "Epoch 346 Batch    0/6   train_loss = 0.400\n",
      "Epoch 347 Batch    0/6   train_loss = 0.398\n",
      "Epoch 348 Batch    0/6   train_loss = 0.397\n",
      "Epoch 349 Batch    0/6   train_loss = 0.396\n",
      "Epoch 350 Batch    0/6   train_loss = 0.394\n",
      "Epoch 351 Batch    0/6   train_loss = 0.393\n",
      "Epoch 352 Batch    0/6   train_loss = 0.392\n",
      "Epoch 353 Batch    0/6   train_loss = 0.391\n",
      "Epoch 354 Batch    0/6   train_loss = 0.390\n",
      "Epoch 355 Batch    0/6   train_loss = 0.389\n",
      "Epoch 356 Batch    0/6   train_loss = 0.388\n",
      "Epoch 357 Batch    0/6   train_loss = 0.387\n",
      "Epoch 358 Batch    0/6   train_loss = 0.386\n",
      "Epoch 359 Batch    0/6   train_loss = 0.386\n",
      "Epoch 360 Batch    0/6   train_loss = 0.385\n",
      "Epoch 361 Batch    0/6   train_loss = 0.383\n",
      "Epoch 362 Batch    0/6   train_loss = 0.384\n",
      "Epoch 363 Batch    0/6   train_loss = 0.382\n",
      "Epoch 364 Batch    0/6   train_loss = 0.381\n",
      "Epoch 365 Batch    0/6   train_loss = 0.382\n",
      "Epoch 366 Batch    0/6   train_loss = 0.380\n",
      "Epoch 367 Batch    0/6   train_loss = 0.379\n",
      "Epoch 368 Batch    0/6   train_loss = 0.379\n",
      "Epoch 369 Batch    0/6   train_loss = 0.377\n",
      "Epoch 370 Batch    0/6   train_loss = 0.378\n",
      "Epoch 371 Batch    0/6   train_loss = 0.376\n",
      "Epoch 372 Batch    0/6   train_loss = 0.376\n",
      "Epoch 373 Batch    0/6   train_loss = 0.375\n",
      "Epoch 374 Batch    0/6   train_loss = 0.374\n",
      "Epoch 375 Batch    0/6   train_loss = 0.374\n",
      "Epoch 376 Batch    0/6   train_loss = 0.372\n",
      "Epoch 377 Batch    0/6   train_loss = 0.372\n",
      "Epoch 378 Batch    0/6   train_loss = 0.371\n",
      "Epoch 379 Batch    0/6   train_loss = 0.371\n",
      "Epoch 380 Batch    0/6   train_loss = 0.369\n",
      "Epoch 381 Batch    0/6   train_loss = 0.369\n",
      "Epoch 382 Batch    0/6   train_loss = 0.368\n",
      "Epoch 383 Batch    0/6   train_loss = 0.368\n",
      "Epoch 384 Batch    0/6   train_loss = 0.367\n",
      "Epoch 385 Batch    0/6   train_loss = 0.367\n",
      "Epoch 386 Batch    0/6   train_loss = 0.366\n",
      "Epoch 387 Batch    0/6   train_loss = 0.365\n",
      "Epoch 388 Batch    0/6   train_loss = 0.365\n",
      "Epoch 389 Batch    0/6   train_loss = 0.364\n",
      "Epoch 390 Batch    0/6   train_loss = 0.364\n",
      "Epoch 391 Batch    0/6   train_loss = 0.363\n",
      "Epoch 392 Batch    0/6   train_loss = 0.363\n",
      "Epoch 393 Batch    0/6   train_loss = 0.362\n",
      "Epoch 394 Batch    0/6   train_loss = 0.362\n",
      "Epoch 395 Batch    0/6   train_loss = 0.361\n",
      "Epoch 396 Batch    0/6   train_loss = 0.361\n",
      "Epoch 397 Batch    0/6   train_loss = 0.360\n",
      "Epoch 398 Batch    0/6   train_loss = 0.360\n",
      "Epoch 399 Batch    0/6   train_loss = 0.359\n",
      "Epoch 400 Batch    0/6   train_loss = 0.359\n",
      "Epoch 401 Batch    0/6   train_loss = 0.358\n",
      "Epoch 402 Batch    0/6   train_loss = 0.358\n",
      "Epoch 403 Batch    0/6   train_loss = 0.358\n",
      "Epoch 404 Batch    0/6   train_loss = 0.357\n",
      "Epoch 405 Batch    0/6   train_loss = 0.357\n",
      "Epoch 406 Batch    0/6   train_loss = 0.356\n",
      "Epoch 407 Batch    0/6   train_loss = 0.356\n",
      "Epoch 408 Batch    0/6   train_loss = 0.356\n",
      "Epoch 409 Batch    0/6   train_loss = 0.355\n",
      "Epoch 410 Batch    0/6   train_loss = 0.355\n",
      "Epoch 411 Batch    0/6   train_loss = 0.355\n",
      "Epoch 412 Batch    0/6   train_loss = 0.354\n",
      "Epoch 413 Batch    0/6   train_loss = 0.354\n",
      "Epoch 414 Batch    0/6   train_loss = 0.353\n",
      "Epoch 415 Batch    0/6   train_loss = 0.353\n",
      "Epoch 416 Batch    0/6   train_loss = 0.353\n",
      "Epoch 417 Batch    0/6   train_loss = 0.352\n",
      "Epoch 418 Batch    0/6   train_loss = 0.352\n",
      "Epoch 419 Batch    0/6   train_loss = 0.352\n",
      "Epoch 420 Batch    0/6   train_loss = 0.351\n",
      "Epoch 421 Batch    0/6   train_loss = 0.351\n",
      "Epoch 422 Batch    0/6   train_loss = 0.351\n",
      "Epoch 423 Batch    0/6   train_loss = 0.351\n",
      "Epoch 424 Batch    0/6   train_loss = 0.350\n",
      "Epoch 425 Batch    0/6   train_loss = 0.350\n",
      "Epoch 426 Batch    0/6   train_loss = 0.350\n",
      "Epoch 427 Batch    0/6   train_loss = 0.350\n",
      "Epoch 428 Batch    0/6   train_loss = 0.349\n",
      "Epoch 429 Batch    0/6   train_loss = 0.349\n",
      "Epoch 430 Batch    0/6   train_loss = 0.348\n",
      "Epoch 431 Batch    0/6   train_loss = 0.349\n",
      "Epoch 432 Batch    0/6   train_loss = 0.348\n",
      "Epoch 433 Batch    0/6   train_loss = 0.348\n",
      "Epoch 434 Batch    0/6   train_loss = 0.347\n",
      "Epoch 435 Batch    0/6   train_loss = 0.347\n",
      "Epoch 436 Batch    0/6   train_loss = 0.347\n",
      "Epoch 437 Batch    0/6   train_loss = 0.347\n",
      "Epoch 438 Batch    0/6   train_loss = 0.346\n",
      "Epoch 439 Batch    0/6   train_loss = 0.346\n",
      "Epoch 440 Batch    0/6   train_loss = 0.346\n",
      "Epoch 441 Batch    0/6   train_loss = 0.346\n",
      "Epoch 442 Batch    0/6   train_loss = 0.345\n",
      "Epoch 443 Batch    0/6   train_loss = 0.345\n",
      "Epoch 444 Batch    0/6   train_loss = 0.345\n",
      "Epoch 445 Batch    0/6   train_loss = 0.345\n",
      "Epoch 446 Batch    0/6   train_loss = 0.345\n",
      "Epoch 447 Batch    0/6   train_loss = 0.344\n",
      "Epoch 448 Batch    0/6   train_loss = 0.344\n",
      "Epoch 449 Batch    0/6   train_loss = 0.344\n",
      "Epoch 450 Batch    0/6   train_loss = 0.344\n",
      "Epoch 451 Batch    0/6   train_loss = 0.343\n",
      "Epoch 452 Batch    0/6   train_loss = 0.343\n",
      "Epoch 453 Batch    0/6   train_loss = 0.343\n",
      "Epoch 454 Batch    0/6   train_loss = 0.343\n",
      "Epoch 455 Batch    0/6   train_loss = 0.342\n",
      "Epoch 456 Batch    0/6   train_loss = 0.342\n",
      "Epoch 457 Batch    0/6   train_loss = 0.342\n",
      "Epoch 458 Batch    0/6   train_loss = 0.342\n",
      "Epoch 459 Batch    0/6   train_loss = 0.342\n",
      "Epoch 460 Batch    0/6   train_loss = 0.342\n",
      "Epoch 461 Batch    0/6   train_loss = 0.341\n",
      "Epoch 462 Batch    0/6   train_loss = 0.341\n",
      "Epoch 463 Batch    0/6   train_loss = 0.341\n",
      "Epoch 464 Batch    0/6   train_loss = 0.341\n",
      "Epoch 465 Batch    0/6   train_loss = 0.341\n",
      "Epoch 466 Batch    0/6   train_loss = 0.340\n",
      "Epoch 467 Batch    0/6   train_loss = 0.340\n",
      "Epoch 468 Batch    0/6   train_loss = 0.340\n",
      "Epoch 469 Batch    0/6   train_loss = 0.340\n",
      "Epoch 470 Batch    0/6   train_loss = 0.340\n",
      "Epoch 471 Batch    0/6   train_loss = 0.340\n",
      "Epoch 472 Batch    0/6   train_loss = 0.340\n",
      "Epoch 473 Batch    0/6   train_loss = 0.339\n",
      "Epoch 474 Batch    0/6   train_loss = 0.339\n",
      "Epoch 475 Batch    0/6   train_loss = 0.339\n",
      "Epoch 476 Batch    0/6   train_loss = 0.339\n",
      "Epoch 477 Batch    0/6   train_loss = 0.338\n",
      "Epoch 478 Batch    0/6   train_loss = 0.338\n",
      "Epoch 479 Batch    0/6   train_loss = 0.338\n",
      "Epoch 480 Batch    0/6   train_loss = 0.338\n",
      "Epoch 481 Batch    0/6   train_loss = 0.338\n",
      "Epoch 482 Batch    0/6   train_loss = 0.338\n",
      "Epoch 483 Batch    0/6   train_loss = 0.338\n",
      "Epoch 484 Batch    0/6   train_loss = 0.337\n",
      "Epoch 485 Batch    0/6   train_loss = 0.337\n",
      "Epoch 486 Batch    0/6   train_loss = 0.337\n",
      "Epoch 487 Batch    0/6   train_loss = 0.337\n",
      "Epoch 488 Batch    0/6   train_loss = 0.337\n",
      "Epoch 489 Batch    0/6   train_loss = 0.337\n",
      "Epoch 490 Batch    0/6   train_loss = 0.337\n",
      "Epoch 491 Batch    0/6   train_loss = 0.337\n",
      "Epoch 492 Batch    0/6   train_loss = 0.337\n",
      "Epoch 493 Batch    0/6   train_loss = 0.336\n",
      "Epoch 494 Batch    0/6   train_loss = 0.336\n",
      "Epoch 495 Batch    0/6   train_loss = 0.336\n",
      "Epoch 496 Batch    0/6   train_loss = 0.336\n",
      "Epoch 497 Batch    0/6   train_loss = 0.336\n",
      "Epoch 498 Batch    0/6   train_loss = 0.336\n",
      "Epoch 499 Batch    0/6   train_loss = 0.336\n",
      "Model Trained and Saved\n"
     ]
    }
   ],
   "source": [
    "\"\"\"\n",
    "DON'T MODIFY ANYTHING IN THIS CELL\n",
    "\"\"\"\n",
    "batches = get_batches(int_text, batch_size, seq_length)\n",
    "\n",
    "with tf.Session(graph=train_graph) as sess:\n",
    "    sess.run(tf.global_variables_initializer())\n",
    "\n",
    "    for epoch_i in range(num_epochs):\n",
    "        state = sess.run(initial_state, {input_text: batches[0][0]})\n",
    "\n",
    "        for batch_i, (x, y) in enumerate(batches):\n",
    "            feed = {\n",
    "                input_text: x,\n",
    "                targets: y,\n",
    "                initial_state: state,\n",
    "                lr: learning_rate}\n",
    "            train_loss, state, _ = sess.run([cost, final_state, train_op], feed)\n",
    "\n",
    "            # Show every <show_every_n_batches> batches\n",
    "            if (epoch_i * len(batches) + batch_i) % show_every_n_batches == 0:\n",
    "                print('Epoch {:>3} Batch {:>4}/{}   train_loss = {:.3f}'.format(\n",
    "                    epoch_i,\n",
    "                    batch_i,\n",
    "                    len(batches),\n",
    "                    train_loss))\n",
    "\n",
    "    # Save Model\n",
    "    saver = tf.train.Saver()\n",
    "    saver.save(sess, save_dir)\n",
    "    print('Model Trained and Saved')"
   ]
  },
  {
   "cell_type": "markdown",
   "metadata": {
    "deletable": true,
    "editable": true
   },
   "source": [
    "## Save Parameters\n",
    "Save `seq_length` and `save_dir` for generating a new TV script."
   ]
  },
  {
   "cell_type": "code",
   "execution_count": 21,
   "metadata": {
    "collapsed": false,
    "deletable": true,
    "editable": true
   },
   "outputs": [],
   "source": [
    "\"\"\"\n",
    "DON'T MODIFY ANYTHING IN THIS CELL\n",
    "\"\"\"\n",
    "# Save parameters for checkpoint\n",
    "helper.save_params((seq_length, save_dir))"
   ]
  },
  {
   "cell_type": "markdown",
   "metadata": {
    "deletable": true,
    "editable": true
   },
   "source": [
    "# Checkpoint"
   ]
  },
  {
   "cell_type": "code",
   "execution_count": 22,
   "metadata": {
    "collapsed": false,
    "deletable": true,
    "editable": true
   },
   "outputs": [],
   "source": [
    "\"\"\"\n",
    "DON'T MODIFY ANYTHING IN THIS CELL\n",
    "\"\"\"\n",
    "import tensorflow as tf\n",
    "import numpy as np\n",
    "import helper\n",
    "import problem_unittests as tests\n",
    "\n",
    "_, vocab_to_int, int_to_vocab, token_dict = helper.load_preprocess()\n",
    "seq_length, load_dir = helper.load_params()"
   ]
  },
  {
   "cell_type": "markdown",
   "metadata": {
    "deletable": true,
    "editable": true
   },
   "source": [
    "## Implement Generate Functions\n",
    "### Get Tensors\n",
    "Get tensors from `loaded_graph` using the function [`get_tensor_by_name()`](https://www.tensorflow.org/api_docs/python/tf/Graph#get_tensor_by_name).  Get the tensors using the following names:\n",
    "- \"input:0\"\n",
    "- \"initial_state:0\"\n",
    "- \"final_state:0\"\n",
    "- \"probs:0\"\n",
    "\n",
    "Return the tensors in the following tuple `(InputTensor, InitialStateTensor, FinalStateTensor, ProbsTensor)` "
   ]
  },
  {
   "cell_type": "code",
   "execution_count": 23,
   "metadata": {
    "collapsed": false,
    "deletable": true,
    "editable": true
   },
   "outputs": [
    {
     "name": "stdout",
     "output_type": "stream",
     "text": [
      "Tests Passed\n"
     ]
    }
   ],
   "source": [
    "def get_tensors(loaded_graph):\n",
    "    \"\"\"\n",
    "    Get input, initial state, final state, and probabilities tensor from <loaded_graph>\n",
    "    :param loaded_graph: TensorFlow graph loaded from file\n",
    "    :return: Tuple (InputTensor, InitialStateTensor, FinalStateTensor, ProbsTensor)\n",
    "    \"\"\"\n",
    "    # TODO: Implement Function\n",
    "    input_tensor = loaded_graph.get_tensor_by_name('input:0')\n",
    "    initial_state_tensor = loaded_graph.get_tensor_by_name('initial_state:0')\n",
    "    final_state_tensor = loaded_graph.get_tensor_by_name('final_state:0')\n",
    "    probs_tensor = loaded_graph.get_tensor_by_name('probs:0')\n",
    "    return (input_tensor, initial_state_tensor, final_state_tensor, probs_tensor)\n",
    "\n",
    "\n",
    "\"\"\"\n",
    "DON'T MODIFY ANYTHING IN THIS CELL THAT IS BELOW THIS LINE\n",
    "\"\"\"\n",
    "tests.test_get_tensors(get_tensors)"
   ]
  },
  {
   "cell_type": "markdown",
   "metadata": {
    "deletable": true,
    "editable": true
   },
   "source": [
    "### Choose Word\n",
    "Implement the `pick_word()` function to select the next word using `probabilities`."
   ]
  },
  {
   "cell_type": "code",
   "execution_count": 30,
   "metadata": {
    "collapsed": false,
    "deletable": true,
    "editable": true
   },
   "outputs": [
    {
     "name": "stdout",
     "output_type": "stream",
     "text": [
      "Tests Passed\n"
     ]
    }
   ],
   "source": [
    "def pick_word(probabilities, int_to_vocab):\n",
    "    \"\"\"\n",
    "    Pick the next word in the generated text\n",
    "    :param probabilities: Probabilites of the next word\n",
    "    :param int_to_vocab: Dictionary of word ids as the keys and words as the values\n",
    "    :return: String of the predicted word\n",
    "    \"\"\"\n",
    "    # TODO: Implement Function\n",
    "    return int_to_vocab[np.argmax(probabilities)]\n",
    "\n",
    "\n",
    "\"\"\"\n",
    "DON'T MODIFY ANYTHING IN THIS CELL THAT IS BELOW THIS LINE\n",
    "\"\"\"\n",
    "tests.test_pick_word(pick_word)"
   ]
  },
  {
   "cell_type": "markdown",
   "metadata": {
    "deletable": true,
    "editable": true
   },
   "source": [
    "## Generate TV Script\n",
    "This will generate the TV script for you.  Set `gen_length` to the length of TV script you want to generate."
   ]
  },
  {
   "cell_type": "code",
   "execution_count": 31,
   "metadata": {
    "collapsed": false,
    "deletable": true,
    "editable": true
   },
   "outputs": [
    {
     "name": "stdout",
     "output_type": "stream",
     "text": [
      "moe_szyslak:(to barney) linda ronstadt? how'd you get in this gonna help, bart!\n",
      "homer_simpson:(to homer) marge, when i have hurt a woman / a love tonight, skirt, would you?\n",
      "moe_szyslak: no, this problem. you're a body!\n",
      "lenny_leonard:(sighs)(sheepish) i'm gonna the crony.\n",
      "moe_szyslak:(worried) so i'm a hell.\n",
      "homer_simpson: that's the day!\" christmas.(small sound)\n",
      "moe_szyslak: i like you...\n",
      "homer_simpson: oh who wants out off a alcoholism people?(points) he's toys your à song, maybe i can go for a can look gets us.(big punch)\n",
      "(starts) oh sounds like it on the drug back we know.\n",
      "homer_simpson:(reading) i need a free man?() you was a new crap happier.\n",
      "moe_szyslak: oh, when i was an part we do again.\n",
      "moe_szyslak: sure just right down her springfield dating and day?\n",
      "carl_carlson: we're workers, lenny when i watch\n"
     ]
    }
   ],
   "source": [
    "gen_length = 200\n",
    "# homer_simpson, moe_szyslak, or Barney_Gumble\n",
    "prime_word = 'moe_szyslak'\n",
    "\n",
    "\"\"\"\n",
    "DON'T MODIFY ANYTHING IN THIS CELL THAT IS BELOW THIS LINE\n",
    "\"\"\"\n",
    "loaded_graph = tf.Graph()\n",
    "with tf.Session(graph=loaded_graph) as sess:\n",
    "    # Load saved model\n",
    "    loader = tf.train.import_meta_graph(load_dir + '.meta')\n",
    "    loader.restore(sess, load_dir)\n",
    "\n",
    "    # Get Tensors from loaded model\n",
    "    input_text, initial_state, final_state, probs = get_tensors(loaded_graph)\n",
    "\n",
    "    # Sentences generation setup\n",
    "    gen_sentences = [prime_word + ':']\n",
    "    prev_state = sess.run(initial_state, {input_text: np.array([[1]])})\n",
    "\n",
    "    # Generate sentences\n",
    "    for n in range(gen_length):\n",
    "        # Dynamic Input\n",
    "        dyn_input = [[vocab_to_int[word] for word in gen_sentences[-seq_length:]]]\n",
    "        dyn_seq_length = len(dyn_input[0])\n",
    "\n",
    "        # Get Prediction\n",
    "        probabilities, prev_state = sess.run(\n",
    "            [probs, final_state],\n",
    "            {input_text: dyn_input, initial_state: prev_state})\n",
    "        \n",
    "        pred_word = pick_word(probabilities[dyn_seq_length-1], int_to_vocab)\n",
    "\n",
    "        gen_sentences.append(pred_word)\n",
    "    \n",
    "    # Remove tokens\n",
    "    tv_script = ' '.join(gen_sentences)\n",
    "    for key, token in token_dict.items():\n",
    "        ending = ' ' if key in ['\\n', '(', '\"'] else ''\n",
    "        tv_script = tv_script.replace(' ' + token.lower(), key)\n",
    "    tv_script = tv_script.replace('\\n ', '\\n')\n",
    "    tv_script = tv_script.replace('( ', '(')\n",
    "        \n",
    "    print(tv_script)"
   ]
  },
  {
   "cell_type": "markdown",
   "metadata": {
    "deletable": true,
    "editable": true
   },
   "source": [
    "# The TV Script is Nonsensical\n",
    "It's ok if the TV script doesn't make any sense.  We trained on less than a megabyte of text.  In order to get good results, you'll have to use a smaller vocabulary or get more data.  Luckly there's more data!  As we mentioned in the begging of this project, this is a subset of [another dataset](https://www.kaggle.com/wcukierski/the-simpsons-by-the-data).  We didn't have you train on all the data, because that would take too long.  However, you are free to train your neural network on all the data.  After you complete the project, of course.\n",
    "# Submitting This Project\n",
    "When submitting this project, make sure to run all the cells before saving the notebook. Save the notebook file as \"dlnd_tv_script_generation.ipynb\" and save it as a HTML file under \"File\" -> \"Download as\". Include the \"helper.py\" and \"problem_unittests.py\" files in your submission."
   ]
  }
 ],
 "metadata": {
  "kernelspec": {
   "display_name": "Python 3",
   "language": "python",
   "name": "python3"
  },
  "language_info": {
   "codemirror_mode": {
    "name": "ipython",
    "version": 3
   },
   "file_extension": ".py",
   "mimetype": "text/x-python",
   "name": "python",
   "nbconvert_exporter": "python",
   "pygments_lexer": "ipython3",
   "version": "3.5.2"
  },
  "widgets": {
   "state": {},
   "version": "1.1.2"
  }
 },
 "nbformat": 4,
 "nbformat_minor": 0
}
